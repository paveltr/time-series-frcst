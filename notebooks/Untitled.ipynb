{
 "cells": [
  {
   "cell_type": "code",
   "execution_count": 2,
   "metadata": {},
   "outputs": [],
   "source": [
    "import pandas as pd\n",
    "import numpy as np\n",
    "import gc\n",
    "\n",
    "def sd(col, max_loss_limit=0.001, avg_loss_limit=0.001, na_loss_limit=0, n_uniq_loss_limit=0, fillna=0):\n",
    "    \"\"\"\n",
    "    max_loss_limit - don't allow any float to lose precision more than this value. Any values are ok for GBT algorithms as long as you don't unique values.\n",
    "                     See https://en.wikipedia.org/wiki/Half-precision_floating-point_format#Precision_limitations_on_decimal_values_in_[0,_1]\n",
    "    avg_loss_limit - same but calculates avg throughout the series.\n",
    "    na_loss_limit - not really useful.\n",
    "    n_uniq_loss_limit - very important parameter. If you have a float field with very high cardinality you can set this value to something like n_records * 0.01 in order to allow some field relaxing.\n",
    "    \"\"\"\n",
    "    is_float = str(col.dtypes)[:5] == 'float'\n",
    "    na_count = col.isna().sum()\n",
    "    n_uniq = col.nunique(dropna=False)\n",
    "    try_types = ['float16', 'float32']\n",
    "\n",
    "    if na_count <= na_loss_limit:\n",
    "        try_types = ['int8', 'int16', 'float16', 'int32', 'float32']\n",
    "\n",
    "    for type in try_types:\n",
    "        col_tmp = col\n",
    "\n",
    "        # float to int conversion => try to round to minimize casting error\n",
    "        if is_float and (str(type)[:3] == 'int'):\n",
    "            col_tmp = col_tmp.copy().fillna(fillna).round()\n",
    "\n",
    "        col_tmp = col_tmp.astype(type)\n",
    "        max_loss = (col_tmp - col).abs().max()\n",
    "        avg_loss = (col_tmp - col).abs().mean()\n",
    "        na_loss = np.abs(na_count - col_tmp.isna().sum())\n",
    "        n_uniq_loss = np.abs(n_uniq - col_tmp.nunique(dropna=False))\n",
    "\n",
    "        if max_loss <= max_loss_limit and avg_loss <= avg_loss_limit and na_loss <= na_loss_limit and n_uniq_loss <= n_uniq_loss_limit:\n",
    "            return col_tmp\n",
    "\n",
    "    # field can't be converted\n",
    "    return col\n",
    "\n",
    "def reduce_mem_usage_sd(df, deep=True, verbose=False, obj_to_cat=False):\n",
    "    numerics = ['int16', 'uint16', 'int32', 'uint32', 'int64', 'uint64', 'float16', 'float32', 'float64']\n",
    "    start_mem = df.memory_usage(deep=deep).sum() / 1024 ** 2\n",
    "    for col in df.columns:\n",
    "        col_type = df[col].dtypes\n",
    "\n",
    "        # collect stats\n",
    "        na_count = df[col].isna().sum()\n",
    "        n_uniq = df[col].nunique(dropna=False)\n",
    "        \n",
    "        # numerics\n",
    "        if col_type in numerics:\n",
    "            df[col] = sd(df[col])\n",
    "\n",
    "        # strings\n",
    "        if (col_type == 'object') and obj_to_cat:\n",
    "            df[col] = df[col].astype('category')\n",
    "        \n",
    "        if verbose:\n",
    "            print(f'Column {col}: {col_type} -> {df[col].dtypes}, na_count={na_count}, n_uniq={n_uniq}')\n",
    "        new_na_count = df[col].isna().sum()\n",
    "        if (na_count != new_na_count):\n",
    "            print(f'Warning: column {col}, {col_type} -> {df[col].dtypes} lost na values. Before: {na_count}, after: {new_na_count}')\n",
    "        new_n_uniq = df[col].nunique(dropna=False)\n",
    "        if (n_uniq != new_n_uniq):\n",
    "            print(f'Warning: column {col}, {col_type} -> {df[col].dtypes} lost unique values. Before: {n_uniq}, after: {new_n_uniq}')\n",
    "\n",
    "    end_mem = df.memory_usage(deep=deep).sum() / 1024 ** 2\n",
    "    percent = 100 * (start_mem - end_mem) / start_mem\n",
    "    print('Mem. usage decreased from {:5.2f} Mb to {:5.2f} Mb ({:.1f}% reduction)'.format(start_mem, end_mem, percent))\n",
    "    return df\n",
    "\n",
    "def read_csv(file_path):\n",
    "    return reduce_mem_usage_sd(pd.read_csv(file_path))"
   ]
  },
  {
   "cell_type": "code",
   "execution_count": 3,
   "metadata": {},
   "outputs": [
    {
     "name": "stderr",
     "output_type": "stream",
     "text": [
      "D:\\anaconda3\\lib\\site-packages\\IPython\\core\\interactiveshell.py:3338: DtypeWarning: Columns (10,12) have mixed types.Specify dtype option on import or set low_memory=False.\n",
      "  if (await self.run_code(code, result,  async_=asy)):\n"
     ]
    },
    {
     "name": "stdout",
     "output_type": "stream",
     "text": [
      "Mem. usage decreased from 8412.51 Mb to 8004.33 Mb (4.9% reduction)\n"
     ]
    }
   ],
   "source": [
    "sales = read_csv(r'data/sales.csv')"
   ]
  },
  {
   "cell_type": "code",
   "execution_count": 4,
   "metadata": {},
   "outputs": [
    {
     "data": {
      "text/plain": [
       "(19454838, 13)"
      ]
     },
     "execution_count": 4,
     "metadata": {},
     "output_type": "execute_result"
    }
   ],
   "source": [
    "sales.shape"
   ]
  },
  {
   "cell_type": "code",
   "execution_count": 5,
   "metadata": {},
   "outputs": [
    {
     "data": {
      "text/html": [
       "<div>\n",
       "<style scoped>\n",
       "    .dataframe tbody tr th:only-of-type {\n",
       "        vertical-align: middle;\n",
       "    }\n",
       "\n",
       "    .dataframe tbody tr th {\n",
       "        vertical-align: top;\n",
       "    }\n",
       "\n",
       "    .dataframe thead th {\n",
       "        text-align: right;\n",
       "    }\n",
       "</style>\n",
       "<table border=\"1\" class=\"dataframe\">\n",
       "  <thead>\n",
       "    <tr style=\"text-align: right;\">\n",
       "      <th></th>\n",
       "      <th>product_id</th>\n",
       "      <th>store_id</th>\n",
       "      <th>date</th>\n",
       "      <th>sales</th>\n",
       "      <th>revenue</th>\n",
       "      <th>stock</th>\n",
       "      <th>price</th>\n",
       "      <th>promo_type_1</th>\n",
       "      <th>promo_bin_1</th>\n",
       "      <th>promo_type_2</th>\n",
       "      <th>promo_bin_2</th>\n",
       "      <th>promo_discount_2</th>\n",
       "      <th>promo_discount_type_2</th>\n",
       "    </tr>\n",
       "  </thead>\n",
       "  <tbody>\n",
       "    <tr>\n",
       "      <th>0</th>\n",
       "      <td>P0001</td>\n",
       "      <td>S0002</td>\n",
       "      <td>2017-01-02</td>\n",
       "      <td>0.0</td>\n",
       "      <td>0.00</td>\n",
       "      <td>8.0</td>\n",
       "      <td>6.25</td>\n",
       "      <td>PR14</td>\n",
       "      <td>NaN</td>\n",
       "      <td>PR03</td>\n",
       "      <td>NaN</td>\n",
       "      <td>NaN</td>\n",
       "      <td>NaN</td>\n",
       "    </tr>\n",
       "    <tr>\n",
       "      <th>1</th>\n",
       "      <td>P0001</td>\n",
       "      <td>S0012</td>\n",
       "      <td>2017-01-02</td>\n",
       "      <td>1.0</td>\n",
       "      <td>5.30</td>\n",
       "      <td>0.0</td>\n",
       "      <td>6.25</td>\n",
       "      <td>PR14</td>\n",
       "      <td>NaN</td>\n",
       "      <td>PR03</td>\n",
       "      <td>NaN</td>\n",
       "      <td>NaN</td>\n",
       "      <td>NaN</td>\n",
       "    </tr>\n",
       "    <tr>\n",
       "      <th>2</th>\n",
       "      <td>P0001</td>\n",
       "      <td>S0013</td>\n",
       "      <td>2017-01-02</td>\n",
       "      <td>2.0</td>\n",
       "      <td>10.59</td>\n",
       "      <td>0.0</td>\n",
       "      <td>6.25</td>\n",
       "      <td>PR14</td>\n",
       "      <td>NaN</td>\n",
       "      <td>PR03</td>\n",
       "      <td>NaN</td>\n",
       "      <td>NaN</td>\n",
       "      <td>NaN</td>\n",
       "    </tr>\n",
       "    <tr>\n",
       "      <th>3</th>\n",
       "      <td>P0001</td>\n",
       "      <td>S0023</td>\n",
       "      <td>2017-01-02</td>\n",
       "      <td>0.0</td>\n",
       "      <td>0.00</td>\n",
       "      <td>6.0</td>\n",
       "      <td>6.25</td>\n",
       "      <td>PR14</td>\n",
       "      <td>NaN</td>\n",
       "      <td>PR03</td>\n",
       "      <td>NaN</td>\n",
       "      <td>NaN</td>\n",
       "      <td>NaN</td>\n",
       "    </tr>\n",
       "    <tr>\n",
       "      <th>4</th>\n",
       "      <td>P0001</td>\n",
       "      <td>S0025</td>\n",
       "      <td>2017-01-02</td>\n",
       "      <td>0.0</td>\n",
       "      <td>0.00</td>\n",
       "      <td>1.0</td>\n",
       "      <td>6.25</td>\n",
       "      <td>PR14</td>\n",
       "      <td>NaN</td>\n",
       "      <td>PR03</td>\n",
       "      <td>NaN</td>\n",
       "      <td>NaN</td>\n",
       "      <td>NaN</td>\n",
       "    </tr>\n",
       "  </tbody>\n",
       "</table>\n",
       "</div>"
      ],
      "text/plain": [
       "  product_id store_id        date  sales  revenue  stock  price promo_type_1  \\\n",
       "0      P0001    S0002  2017-01-02    0.0     0.00    8.0   6.25         PR14   \n",
       "1      P0001    S0012  2017-01-02    1.0     5.30    0.0   6.25         PR14   \n",
       "2      P0001    S0013  2017-01-02    2.0    10.59    0.0   6.25         PR14   \n",
       "3      P0001    S0023  2017-01-02    0.0     0.00    6.0   6.25         PR14   \n",
       "4      P0001    S0025  2017-01-02    0.0     0.00    1.0   6.25         PR14   \n",
       "\n",
       "  promo_bin_1 promo_type_2 promo_bin_2  promo_discount_2 promo_discount_type_2  \n",
       "0         NaN         PR03         NaN               NaN                   NaN  \n",
       "1         NaN         PR03         NaN               NaN                   NaN  \n",
       "2         NaN         PR03         NaN               NaN                   NaN  \n",
       "3         NaN         PR03         NaN               NaN                   NaN  \n",
       "4         NaN         PR03         NaN               NaN                   NaN  "
      ]
     },
     "execution_count": 5,
     "metadata": {},
     "output_type": "execute_result"
    }
   ],
   "source": [
    "sales.head()"
   ]
  },
  {
   "cell_type": "code",
   "execution_count": 6,
   "metadata": {},
   "outputs": [
    {
     "name": "stdout",
     "output_type": "stream",
     "text": [
      "Mem. usage decreased from  0.31 Mb to  0.31 Mb (2.6% reduction)\n"
     ]
    }
   ],
   "source": [
    "taxonomy = read_csv(r'data/product_taxonomy.csv')"
   ]
  },
  {
   "cell_type": "code",
   "execution_count": 7,
   "metadata": {},
   "outputs": [
    {
     "data": {
      "text/html": [
       "<div>\n",
       "<style scoped>\n",
       "    .dataframe tbody tr th:only-of-type {\n",
       "        vertical-align: middle;\n",
       "    }\n",
       "\n",
       "    .dataframe tbody tr th {\n",
       "        vertical-align: top;\n",
       "    }\n",
       "\n",
       "    .dataframe thead th {\n",
       "        text-align: right;\n",
       "    }\n",
       "</style>\n",
       "<table border=\"1\" class=\"dataframe\">\n",
       "  <thead>\n",
       "    <tr style=\"text-align: right;\">\n",
       "      <th></th>\n",
       "      <th>product_id</th>\n",
       "      <th>product_length</th>\n",
       "      <th>product_depth</th>\n",
       "      <th>product_width</th>\n",
       "      <th>cluster_id</th>\n",
       "      <th>hierarchy1_id</th>\n",
       "      <th>hierarchy2_id</th>\n",
       "      <th>hierarchy3_id</th>\n",
       "      <th>hierarchy4_id</th>\n",
       "      <th>hierarchy5_id</th>\n",
       "    </tr>\n",
       "  </thead>\n",
       "  <tbody>\n",
       "    <tr>\n",
       "      <th>694</th>\n",
       "      <td>P0744</td>\n",
       "      <td>2.0</td>\n",
       "      <td>7.0</td>\n",
       "      <td>7.000000</td>\n",
       "      <td>NaN</td>\n",
       "      <td>H03</td>\n",
       "      <td>H0311</td>\n",
       "      <td>H031108</td>\n",
       "      <td>H03110802</td>\n",
       "      <td>H0311080202</td>\n",
       "    </tr>\n",
       "    <tr>\n",
       "      <th>695</th>\n",
       "      <td>P0745</td>\n",
       "      <td>NaN</td>\n",
       "      <td>NaN</td>\n",
       "      <td>NaN</td>\n",
       "      <td>cluster_0</td>\n",
       "      <td>H02</td>\n",
       "      <td>H0209</td>\n",
       "      <td>H020908</td>\n",
       "      <td>H02090804</td>\n",
       "      <td>H0209080422</td>\n",
       "    </tr>\n",
       "    <tr>\n",
       "      <th>696</th>\n",
       "      <td>P0746</td>\n",
       "      <td>1.0</td>\n",
       "      <td>1.0</td>\n",
       "      <td>1.000000</td>\n",
       "      <td>cluster_0</td>\n",
       "      <td>H03</td>\n",
       "      <td>H0314</td>\n",
       "      <td>H031407</td>\n",
       "      <td>H03140702</td>\n",
       "      <td>H0314070202</td>\n",
       "    </tr>\n",
       "    <tr>\n",
       "      <th>697</th>\n",
       "      <td>P0747</td>\n",
       "      <td>23.0</td>\n",
       "      <td>23.0</td>\n",
       "      <td>33.299999</td>\n",
       "      <td>cluster_0</td>\n",
       "      <td>H01</td>\n",
       "      <td>H0107</td>\n",
       "      <td>H010701</td>\n",
       "      <td>H01070100</td>\n",
       "      <td>H0107010026</td>\n",
       "    </tr>\n",
       "    <tr>\n",
       "      <th>698</th>\n",
       "      <td>P0748</td>\n",
       "      <td>3.8</td>\n",
       "      <td>4.8</td>\n",
       "      <td>15.300000</td>\n",
       "      <td>cluster_0</td>\n",
       "      <td>H01</td>\n",
       "      <td>H0108</td>\n",
       "      <td>H010801</td>\n",
       "      <td>H01080110</td>\n",
       "      <td>H0108011006</td>\n",
       "    </tr>\n",
       "  </tbody>\n",
       "</table>\n",
       "</div>"
      ],
      "text/plain": [
       "    product_id  product_length  product_depth  product_width cluster_id  \\\n",
       "694      P0744             2.0            7.0       7.000000        NaN   \n",
       "695      P0745             NaN            NaN            NaN  cluster_0   \n",
       "696      P0746             1.0            1.0       1.000000  cluster_0   \n",
       "697      P0747            23.0           23.0      33.299999  cluster_0   \n",
       "698      P0748             3.8            4.8      15.300000  cluster_0   \n",
       "\n",
       "    hierarchy1_id hierarchy2_id hierarchy3_id hierarchy4_id hierarchy5_id  \n",
       "694           H03         H0311       H031108     H03110802   H0311080202  \n",
       "695           H02         H0209       H020908     H02090804   H0209080422  \n",
       "696           H03         H0314       H031407     H03140702   H0314070202  \n",
       "697           H01         H0107       H010701     H01070100   H0107010026  \n",
       "698           H01         H0108       H010801     H01080110   H0108011006  "
      ]
     },
     "execution_count": 7,
     "metadata": {},
     "output_type": "execute_result"
    }
   ],
   "source": [
    "taxonomy.tail()"
   ]
  },
  {
   "cell_type": "code",
   "execution_count": 8,
   "metadata": {},
   "outputs": [
    {
     "data": {
      "text/plain": [
       "H03    292\n",
       "H00    215\n",
       "H01    181\n",
       "H02     11\n",
       "Name: hierarchy1_id, dtype: int64"
      ]
     },
     "execution_count": 8,
     "metadata": {},
     "output_type": "execute_result"
    }
   ],
   "source": [
    "taxonomy.hierarchy1_id.value_counts()"
   ]
  },
  {
   "cell_type": "code",
   "execution_count": 9,
   "metadata": {},
   "outputs": [
    {
     "data": {
      "text/plain": [
       "hierarchy1_id\n",
       "H00    215\n",
       "H01    181\n",
       "H02     11\n",
       "H03    292\n",
       "Name: product_id, dtype: int64"
      ]
     },
     "execution_count": 9,
     "metadata": {},
     "output_type": "execute_result"
    }
   ],
   "source": [
    "taxonomy.groupby('hierarchy1_id')['product_id'].nunique()"
   ]
  },
  {
   "cell_type": "code",
   "execution_count": null,
   "metadata": {},
   "outputs": [],
   "source": []
  },
  {
   "cell_type": "code",
   "execution_count": 10,
   "metadata": {},
   "outputs": [
    {
     "data": {
      "text/plain": [
       "(699, 10)"
      ]
     },
     "execution_count": 10,
     "metadata": {},
     "output_type": "execute_result"
    }
   ],
   "source": [
    "taxonomy.shape"
   ]
  },
  {
   "cell_type": "code",
   "execution_count": 11,
   "metadata": {},
   "outputs": [
    {
     "name": "stdout",
     "output_type": "stream",
     "text": [
      "Mem. usage decreased from  0.03 Mb to  0.03 Mb (3.6% reduction)\n"
     ]
    }
   ],
   "source": [
    "stores = read_csv(r'data/store_cities.csv')"
   ]
  },
  {
   "cell_type": "code",
   "execution_count": 12,
   "metadata": {},
   "outputs": [
    {
     "data": {
      "text/plain": [
       "(144, 4)"
      ]
     },
     "execution_count": 12,
     "metadata": {},
     "output_type": "execute_result"
    }
   ],
   "source": [
    "stores.shape"
   ]
  },
  {
   "cell_type": "code",
   "execution_count": 13,
   "metadata": {},
   "outputs": [
    {
     "data": {
      "text/html": [
       "<div>\n",
       "<style scoped>\n",
       "    .dataframe tbody tr th:only-of-type {\n",
       "        vertical-align: middle;\n",
       "    }\n",
       "\n",
       "    .dataframe tbody tr th {\n",
       "        vertical-align: top;\n",
       "    }\n",
       "\n",
       "    .dataframe thead th {\n",
       "        text-align: right;\n",
       "    }\n",
       "</style>\n",
       "<table border=\"1\" class=\"dataframe\">\n",
       "  <thead>\n",
       "    <tr style=\"text-align: right;\">\n",
       "      <th></th>\n",
       "      <th>store_id</th>\n",
       "      <th>storetype_id</th>\n",
       "      <th>store_size</th>\n",
       "      <th>city_id</th>\n",
       "    </tr>\n",
       "  </thead>\n",
       "  <tbody>\n",
       "    <tr>\n",
       "      <th>0</th>\n",
       "      <td>S0091</td>\n",
       "      <td>ST04</td>\n",
       "      <td>19</td>\n",
       "      <td>C013</td>\n",
       "    </tr>\n",
       "    <tr>\n",
       "      <th>1</th>\n",
       "      <td>S0012</td>\n",
       "      <td>ST04</td>\n",
       "      <td>28</td>\n",
       "      <td>C005</td>\n",
       "    </tr>\n",
       "    <tr>\n",
       "      <th>2</th>\n",
       "      <td>S0045</td>\n",
       "      <td>ST04</td>\n",
       "      <td>17</td>\n",
       "      <td>C008</td>\n",
       "    </tr>\n",
       "    <tr>\n",
       "      <th>3</th>\n",
       "      <td>S0032</td>\n",
       "      <td>ST03</td>\n",
       "      <td>14</td>\n",
       "      <td>C019</td>\n",
       "    </tr>\n",
       "    <tr>\n",
       "      <th>4</th>\n",
       "      <td>S0027</td>\n",
       "      <td>ST04</td>\n",
       "      <td>24</td>\n",
       "      <td>C022</td>\n",
       "    </tr>\n",
       "  </tbody>\n",
       "</table>\n",
       "</div>"
      ],
      "text/plain": [
       "  store_id storetype_id  store_size city_id\n",
       "0    S0091         ST04          19    C013\n",
       "1    S0012         ST04          28    C005\n",
       "2    S0045         ST04          17    C008\n",
       "3    S0032         ST03          14    C019\n",
       "4    S0027         ST04          24    C022"
      ]
     },
     "execution_count": 13,
     "metadata": {},
     "output_type": "execute_result"
    }
   ],
   "source": [
    "stores.head()"
   ]
  },
  {
   "cell_type": "code",
   "execution_count": 14,
   "metadata": {},
   "outputs": [
    {
     "data": {
      "text/plain": [
       "(product_id                object\n",
       " store_id                  object\n",
       " date                      object\n",
       " sales                    float32\n",
       " revenue                  float32\n",
       " stock                    float32\n",
       " price                    float32\n",
       " promo_type_1              object\n",
       " promo_bin_1               object\n",
       " promo_type_2              object\n",
       " promo_bin_2               object\n",
       " promo_discount_2         float16\n",
       " promo_discount_type_2     object\n",
       " dtype: object,\n",
       " product_id         object\n",
       " product_length    float32\n",
       " product_depth     float32\n",
       " product_width     float32\n",
       " cluster_id         object\n",
       " hierarchy1_id      object\n",
       " hierarchy2_id      object\n",
       " hierarchy3_id      object\n",
       " hierarchy4_id      object\n",
       " hierarchy5_id      object\n",
       " dtype: object,\n",
       " store_id        object\n",
       " storetype_id    object\n",
       " store_size        int8\n",
       " city_id         object\n",
       " dtype: object)"
      ]
     },
     "execution_count": 14,
     "metadata": {},
     "output_type": "execute_result"
    }
   ],
   "source": [
    "sales.dtypes, taxonomy.dtypes, stores.dtypes"
   ]
  },
  {
   "cell_type": "code",
   "execution_count": 15,
   "metadata": {},
   "outputs": [],
   "source": [
    "# sales['product_id'] = sales['product_id'].astype(str)\n",
    "# taxonomy['product_id'] = taxonomy['product_id'].astype(str)\n",
    "\n",
    "# sales['store_id'] = sales['store_id'].astype(str)\n",
    "# stores['store_id'] = stores['store_id'].astype(str)"
   ]
  },
  {
   "cell_type": "code",
   "execution_count": 16,
   "metadata": {},
   "outputs": [],
   "source": [
    "data = pd.merge(sales, taxonomy, how='inner', on = ['product_id'])\\\n",
    "         .merge(stores, how='inner', on = ['store_id'])"
   ]
  },
  {
   "cell_type": "code",
   "execution_count": 17,
   "metadata": {},
   "outputs": [
    {
     "data": {
      "text/plain": [
       "True"
      ]
     },
     "execution_count": 17,
     "metadata": {},
     "output_type": "execute_result"
    }
   ],
   "source": [
    "data.shape[0] == sales.shape[0]"
   ]
  },
  {
   "cell_type": "code",
   "execution_count": 18,
   "metadata": {},
   "outputs": [
    {
     "data": {
      "text/html": [
       "<div>\n",
       "<style scoped>\n",
       "    .dataframe tbody tr th:only-of-type {\n",
       "        vertical-align: middle;\n",
       "    }\n",
       "\n",
       "    .dataframe tbody tr th {\n",
       "        vertical-align: top;\n",
       "    }\n",
       "\n",
       "    .dataframe thead th {\n",
       "        text-align: right;\n",
       "    }\n",
       "</style>\n",
       "<table border=\"1\" class=\"dataframe\">\n",
       "  <thead>\n",
       "    <tr style=\"text-align: right;\">\n",
       "      <th></th>\n",
       "      <th>product_id</th>\n",
       "      <th>store_id</th>\n",
       "      <th>date</th>\n",
       "      <th>sales</th>\n",
       "      <th>revenue</th>\n",
       "      <th>stock</th>\n",
       "      <th>price</th>\n",
       "      <th>promo_type_1</th>\n",
       "      <th>promo_bin_1</th>\n",
       "      <th>promo_type_2</th>\n",
       "      <th>...</th>\n",
       "      <th>product_width</th>\n",
       "      <th>cluster_id</th>\n",
       "      <th>hierarchy1_id</th>\n",
       "      <th>hierarchy2_id</th>\n",
       "      <th>hierarchy3_id</th>\n",
       "      <th>hierarchy4_id</th>\n",
       "      <th>hierarchy5_id</th>\n",
       "      <th>storetype_id</th>\n",
       "      <th>store_size</th>\n",
       "      <th>city_id</th>\n",
       "    </tr>\n",
       "  </thead>\n",
       "  <tbody>\n",
       "    <tr>\n",
       "      <th>0</th>\n",
       "      <td>P0001</td>\n",
       "      <td>S0002</td>\n",
       "      <td>2017-01-02</td>\n",
       "      <td>0.0</td>\n",
       "      <td>0.0</td>\n",
       "      <td>8.0</td>\n",
       "      <td>6.25</td>\n",
       "      <td>PR14</td>\n",
       "      <td>NaN</td>\n",
       "      <td>PR03</td>\n",
       "      <td>...</td>\n",
       "      <td>20.0</td>\n",
       "      <td>cluster_5</td>\n",
       "      <td>H01</td>\n",
       "      <td>H0105</td>\n",
       "      <td>H010501</td>\n",
       "      <td>H01050100</td>\n",
       "      <td>H0105010006</td>\n",
       "      <td>ST04</td>\n",
       "      <td>39</td>\n",
       "      <td>C007</td>\n",
       "    </tr>\n",
       "    <tr>\n",
       "      <th>1</th>\n",
       "      <td>P0001</td>\n",
       "      <td>S0002</td>\n",
       "      <td>2017-01-03</td>\n",
       "      <td>0.0</td>\n",
       "      <td>0.0</td>\n",
       "      <td>8.0</td>\n",
       "      <td>6.25</td>\n",
       "      <td>PR14</td>\n",
       "      <td>NaN</td>\n",
       "      <td>PR03</td>\n",
       "      <td>...</td>\n",
       "      <td>20.0</td>\n",
       "      <td>cluster_5</td>\n",
       "      <td>H01</td>\n",
       "      <td>H0105</td>\n",
       "      <td>H010501</td>\n",
       "      <td>H01050100</td>\n",
       "      <td>H0105010006</td>\n",
       "      <td>ST04</td>\n",
       "      <td>39</td>\n",
       "      <td>C007</td>\n",
       "    </tr>\n",
       "    <tr>\n",
       "      <th>2</th>\n",
       "      <td>P0001</td>\n",
       "      <td>S0002</td>\n",
       "      <td>2017-01-04</td>\n",
       "      <td>0.0</td>\n",
       "      <td>0.0</td>\n",
       "      <td>8.0</td>\n",
       "      <td>6.25</td>\n",
       "      <td>PR14</td>\n",
       "      <td>NaN</td>\n",
       "      <td>PR03</td>\n",
       "      <td>...</td>\n",
       "      <td>20.0</td>\n",
       "      <td>cluster_5</td>\n",
       "      <td>H01</td>\n",
       "      <td>H0105</td>\n",
       "      <td>H010501</td>\n",
       "      <td>H01050100</td>\n",
       "      <td>H0105010006</td>\n",
       "      <td>ST04</td>\n",
       "      <td>39</td>\n",
       "      <td>C007</td>\n",
       "    </tr>\n",
       "    <tr>\n",
       "      <th>3</th>\n",
       "      <td>P0001</td>\n",
       "      <td>S0002</td>\n",
       "      <td>2017-01-05</td>\n",
       "      <td>0.0</td>\n",
       "      <td>0.0</td>\n",
       "      <td>8.0</td>\n",
       "      <td>6.25</td>\n",
       "      <td>PR14</td>\n",
       "      <td>NaN</td>\n",
       "      <td>PR03</td>\n",
       "      <td>...</td>\n",
       "      <td>20.0</td>\n",
       "      <td>cluster_5</td>\n",
       "      <td>H01</td>\n",
       "      <td>H0105</td>\n",
       "      <td>H010501</td>\n",
       "      <td>H01050100</td>\n",
       "      <td>H0105010006</td>\n",
       "      <td>ST04</td>\n",
       "      <td>39</td>\n",
       "      <td>C007</td>\n",
       "    </tr>\n",
       "    <tr>\n",
       "      <th>4</th>\n",
       "      <td>P0001</td>\n",
       "      <td>S0002</td>\n",
       "      <td>2017-01-06</td>\n",
       "      <td>0.0</td>\n",
       "      <td>0.0</td>\n",
       "      <td>8.0</td>\n",
       "      <td>6.25</td>\n",
       "      <td>PR14</td>\n",
       "      <td>NaN</td>\n",
       "      <td>PR03</td>\n",
       "      <td>...</td>\n",
       "      <td>20.0</td>\n",
       "      <td>cluster_5</td>\n",
       "      <td>H01</td>\n",
       "      <td>H0105</td>\n",
       "      <td>H010501</td>\n",
       "      <td>H01050100</td>\n",
       "      <td>H0105010006</td>\n",
       "      <td>ST04</td>\n",
       "      <td>39</td>\n",
       "      <td>C007</td>\n",
       "    </tr>\n",
       "  </tbody>\n",
       "</table>\n",
       "<p>5 rows × 25 columns</p>\n",
       "</div>"
      ],
      "text/plain": [
       "  product_id store_id        date  sales  revenue  stock  price promo_type_1  \\\n",
       "0      P0001    S0002  2017-01-02    0.0      0.0    8.0   6.25         PR14   \n",
       "1      P0001    S0002  2017-01-03    0.0      0.0    8.0   6.25         PR14   \n",
       "2      P0001    S0002  2017-01-04    0.0      0.0    8.0   6.25         PR14   \n",
       "3      P0001    S0002  2017-01-05    0.0      0.0    8.0   6.25         PR14   \n",
       "4      P0001    S0002  2017-01-06    0.0      0.0    8.0   6.25         PR14   \n",
       "\n",
       "  promo_bin_1 promo_type_2  ... product_width  cluster_id hierarchy1_id  \\\n",
       "0         NaN         PR03  ...          20.0   cluster_5           H01   \n",
       "1         NaN         PR03  ...          20.0   cluster_5           H01   \n",
       "2         NaN         PR03  ...          20.0   cluster_5           H01   \n",
       "3         NaN         PR03  ...          20.0   cluster_5           H01   \n",
       "4         NaN         PR03  ...          20.0   cluster_5           H01   \n",
       "\n",
       "   hierarchy2_id  hierarchy3_id  hierarchy4_id hierarchy5_id storetype_id  \\\n",
       "0          H0105        H010501      H01050100   H0105010006         ST04   \n",
       "1          H0105        H010501      H01050100   H0105010006         ST04   \n",
       "2          H0105        H010501      H01050100   H0105010006         ST04   \n",
       "3          H0105        H010501      H01050100   H0105010006         ST04   \n",
       "4          H0105        H010501      H01050100   H0105010006         ST04   \n",
       "\n",
       "  store_size city_id  \n",
       "0         39    C007  \n",
       "1         39    C007  \n",
       "2         39    C007  \n",
       "3         39    C007  \n",
       "4         39    C007  \n",
       "\n",
       "[5 rows x 25 columns]"
      ]
     },
     "execution_count": 18,
     "metadata": {},
     "output_type": "execute_result"
    }
   ],
   "source": [
    "data.head()"
   ]
  },
  {
   "cell_type": "code",
   "execution_count": 19,
   "metadata": {},
   "outputs": [
    {
     "data": {
      "text/plain": [
       "100"
      ]
     },
     "execution_count": 19,
     "metadata": {},
     "output_type": "execute_result"
    }
   ],
   "source": [
    "del sales, taxonomy, stores\n",
    "gc.collect()"
   ]
  },
  {
   "cell_type": "code",
   "execution_count": null,
   "metadata": {},
   "outputs": [],
   "source": []
  },
  {
   "cell_type": "code",
   "execution_count": 20,
   "metadata": {},
   "outputs": [],
   "source": [
    "data['date'] = pd.to_datetime(data['date'], format='%Y-%m-%d')"
   ]
  },
  {
   "cell_type": "code",
   "execution_count": 21,
   "metadata": {},
   "outputs": [],
   "source": [
    "data['month_year'] = pd.to_datetime(data['date']).dt.to_period('M')"
   ]
  },
  {
   "cell_type": "code",
   "execution_count": null,
   "metadata": {},
   "outputs": [],
   "source": []
  },
  {
   "cell_type": "code",
   "execution_count": 22,
   "metadata": {},
   "outputs": [],
   "source": [
    "gr = data.groupby(['date', 'hierarchy1_id', 'storetype_id'])['sales'].sum().reset_index()"
   ]
  },
  {
   "cell_type": "code",
   "execution_count": 23,
   "metadata": {},
   "outputs": [
    {
     "data": {
      "text/html": [
       "<div>\n",
       "<style scoped>\n",
       "    .dataframe tbody tr th:only-of-type {\n",
       "        vertical-align: middle;\n",
       "    }\n",
       "\n",
       "    .dataframe tbody tr th {\n",
       "        vertical-align: top;\n",
       "    }\n",
       "\n",
       "    .dataframe thead th {\n",
       "        text-align: right;\n",
       "    }\n",
       "</style>\n",
       "<table border=\"1\" class=\"dataframe\">\n",
       "  <thead>\n",
       "    <tr style=\"text-align: right;\">\n",
       "      <th></th>\n",
       "      <th>date</th>\n",
       "      <th>hierarchy1_id</th>\n",
       "      <th>storetype_id</th>\n",
       "      <th>sales</th>\n",
       "    </tr>\n",
       "  </thead>\n",
       "  <tbody>\n",
       "    <tr>\n",
       "      <th>0</th>\n",
       "      <td>2017-01-02</td>\n",
       "      <td>H00</td>\n",
       "      <td>ST01</td>\n",
       "      <td>767.294006</td>\n",
       "    </tr>\n",
       "    <tr>\n",
       "      <th>1</th>\n",
       "      <td>2017-01-02</td>\n",
       "      <td>H00</td>\n",
       "      <td>ST02</td>\n",
       "      <td>232.225998</td>\n",
       "    </tr>\n",
       "    <tr>\n",
       "      <th>2</th>\n",
       "      <td>2017-01-02</td>\n",
       "      <td>H00</td>\n",
       "      <td>ST03</td>\n",
       "      <td>899.000000</td>\n",
       "    </tr>\n",
       "    <tr>\n",
       "      <th>3</th>\n",
       "      <td>2017-01-02</td>\n",
       "      <td>H00</td>\n",
       "      <td>ST04</td>\n",
       "      <td>3458.251953</td>\n",
       "    </tr>\n",
       "    <tr>\n",
       "      <th>4</th>\n",
       "      <td>2017-01-02</td>\n",
       "      <td>H01</td>\n",
       "      <td>ST01</td>\n",
       "      <td>155.000000</td>\n",
       "    </tr>\n",
       "  </tbody>\n",
       "</table>\n",
       "</div>"
      ],
      "text/plain": [
       "        date hierarchy1_id storetype_id        sales\n",
       "0 2017-01-02           H00         ST01   767.294006\n",
       "1 2017-01-02           H00         ST02   232.225998\n",
       "2 2017-01-02           H00         ST03   899.000000\n",
       "3 2017-01-02           H00         ST04  3458.251953\n",
       "4 2017-01-02           H01         ST01   155.000000"
      ]
     },
     "execution_count": 23,
     "metadata": {},
     "output_type": "execute_result"
    }
   ],
   "source": [
    "gr.head()"
   ]
  },
  {
   "cell_type": "code",
   "execution_count": 24,
   "metadata": {},
   "outputs": [
    {
     "data": {
      "text/plain": [
       "(16845, 4)"
      ]
     },
     "execution_count": 24,
     "metadata": {},
     "output_type": "execute_result"
    }
   ],
   "source": [
    "gr.shape"
   ]
  },
  {
   "cell_type": "code",
   "execution_count": 25,
   "metadata": {},
   "outputs": [
    {
     "data": {
      "text/html": [
       "<div>\n",
       "<style scoped>\n",
       "    .dataframe tbody tr th:only-of-type {\n",
       "        vertical-align: middle;\n",
       "    }\n",
       "\n",
       "    .dataframe tbody tr th {\n",
       "        vertical-align: top;\n",
       "    }\n",
       "\n",
       "    .dataframe thead th {\n",
       "        text-align: right;\n",
       "    }\n",
       "</style>\n",
       "<table border=\"1\" class=\"dataframe\">\n",
       "  <thead>\n",
       "    <tr style=\"text-align: right;\">\n",
       "      <th></th>\n",
       "      <th>count</th>\n",
       "      <th>mean</th>\n",
       "      <th>std</th>\n",
       "      <th>min</th>\n",
       "      <th>25%</th>\n",
       "      <th>50%</th>\n",
       "      <th>75%</th>\n",
       "      <th>max</th>\n",
       "    </tr>\n",
       "    <tr>\n",
       "      <th>hierarchy1_id</th>\n",
       "      <th></th>\n",
       "      <th></th>\n",
       "      <th></th>\n",
       "      <th></th>\n",
       "      <th></th>\n",
       "      <th></th>\n",
       "      <th></th>\n",
       "      <th></th>\n",
       "    </tr>\n",
       "  </thead>\n",
       "  <tbody>\n",
       "    <tr>\n",
       "      <th>H00</th>\n",
       "      <td>4368.0</td>\n",
       "      <td>1403.714478</td>\n",
       "      <td>1847.393799</td>\n",
       "      <td>0.0</td>\n",
       "      <td>222.708508</td>\n",
       "      <td>822.000</td>\n",
       "      <td>1325.948029</td>\n",
       "      <td>47103.632812</td>\n",
       "    </tr>\n",
       "    <tr>\n",
       "      <th>H01</th>\n",
       "      <td>4368.0</td>\n",
       "      <td>202.095245</td>\n",
       "      <td>339.952850</td>\n",
       "      <td>0.0</td>\n",
       "      <td>32.000000</td>\n",
       "      <td>63.000</td>\n",
       "      <td>223.000000</td>\n",
       "      <td>6870.000000</td>\n",
       "    </tr>\n",
       "    <tr>\n",
       "      <th>H02</th>\n",
       "      <td>3741.0</td>\n",
       "      <td>20.375763</td>\n",
       "      <td>41.467800</td>\n",
       "      <td>0.0</td>\n",
       "      <td>0.170000</td>\n",
       "      <td>4.608</td>\n",
       "      <td>14.868000</td>\n",
       "      <td>614.040039</td>\n",
       "    </tr>\n",
       "    <tr>\n",
       "      <th>H03</th>\n",
       "      <td>4368.0</td>\n",
       "      <td>200.596848</td>\n",
       "      <td>288.076233</td>\n",
       "      <td>0.0</td>\n",
       "      <td>31.000000</td>\n",
       "      <td>80.000</td>\n",
       "      <td>331.250000</td>\n",
       "      <td>2101.000000</td>\n",
       "    </tr>\n",
       "  </tbody>\n",
       "</table>\n",
       "</div>"
      ],
      "text/plain": [
       "                count         mean          std  min         25%      50%  \\\n",
       "hierarchy1_id                                                               \n",
       "H00            4368.0  1403.714478  1847.393799  0.0  222.708508  822.000   \n",
       "H01            4368.0   202.095245   339.952850  0.0   32.000000   63.000   \n",
       "H02            3741.0    20.375763    41.467800  0.0    0.170000    4.608   \n",
       "H03            4368.0   200.596848   288.076233  0.0   31.000000   80.000   \n",
       "\n",
       "                       75%           max  \n",
       "hierarchy1_id                             \n",
       "H00            1325.948029  47103.632812  \n",
       "H01             223.000000   6870.000000  \n",
       "H02              14.868000    614.040039  \n",
       "H03             331.250000   2101.000000  "
      ]
     },
     "execution_count": 25,
     "metadata": {},
     "output_type": "execute_result"
    }
   ],
   "source": [
    "gr.groupby('hierarchy1_id')['sales'].describe()"
   ]
  },
  {
   "cell_type": "code",
   "execution_count": 26,
   "metadata": {},
   "outputs": [
    {
     "data": {
      "text/plain": [
       "(16845, 4)"
      ]
     },
     "execution_count": 26,
     "metadata": {},
     "output_type": "execute_result"
    }
   ],
   "source": [
    "gr.shape"
   ]
  },
  {
   "cell_type": "markdown",
   "metadata": {},
   "source": [
    "# Time features"
   ]
  },
  {
   "cell_type": "code",
   "execution_count": 27,
   "metadata": {},
   "outputs": [],
   "source": [
    "### CYCLICAL ENCODING VARIABLES ###\n",
    "\n",
    "def cyclic_encoding(df, col):\n",
    "    \n",
    "    max_val = df[col].max()\n",
    "    df[col + '_sin'] = np.sin(2 * np.pi * df[col]/max_val)\n",
    "    df[col + '_cos'] = np.cos(2 * np.pi * df[col]/max_val)\n",
    "    \n",
    "    return df.drop([col], axis=1)\n",
    "\n",
    "\n",
    "data['DayOfWeek'] = data.date.dt.dayofweek\n",
    "data = cyclic_encoding(data, 'DayOfWeek')\n",
    "data['WeekOfYear'] = data.date.dt.isocalendar().week\n",
    "data = cyclic_encoding(data, 'WeekOfYear')\n",
    "data['Month'] = data.date.dt.month\n",
    "data = cyclic_encoding(data, 'Month')\n",
    "data['Season'] = data.date.dt.quarter\n",
    "data = cyclic_encoding(data, 'Season')"
   ]
  },
  {
   "cell_type": "code",
   "execution_count": 28,
   "metadata": {},
   "outputs": [
    {
     "data": {
      "text/html": [
       "<div>\n",
       "<style scoped>\n",
       "    .dataframe tbody tr th:only-of-type {\n",
       "        vertical-align: middle;\n",
       "    }\n",
       "\n",
       "    .dataframe tbody tr th {\n",
       "        vertical-align: top;\n",
       "    }\n",
       "\n",
       "    .dataframe thead th {\n",
       "        text-align: right;\n",
       "    }\n",
       "</style>\n",
       "<table border=\"1\" class=\"dataframe\">\n",
       "  <thead>\n",
       "    <tr style=\"text-align: right;\">\n",
       "      <th></th>\n",
       "      <th>product_id</th>\n",
       "      <th>store_id</th>\n",
       "      <th>date</th>\n",
       "      <th>sales</th>\n",
       "      <th>revenue</th>\n",
       "      <th>stock</th>\n",
       "      <th>price</th>\n",
       "      <th>promo_type_1</th>\n",
       "      <th>promo_bin_1</th>\n",
       "      <th>promo_type_2</th>\n",
       "      <th>...</th>\n",
       "      <th>city_id</th>\n",
       "      <th>month_year</th>\n",
       "      <th>DayOfWeek_sin</th>\n",
       "      <th>DayOfWeek_cos</th>\n",
       "      <th>WeekOfYear_sin</th>\n",
       "      <th>WeekOfYear_cos</th>\n",
       "      <th>Month_sin</th>\n",
       "      <th>Month_cos</th>\n",
       "      <th>Season_sin</th>\n",
       "      <th>Season_cos</th>\n",
       "    </tr>\n",
       "  </thead>\n",
       "  <tbody>\n",
       "    <tr>\n",
       "      <th>0</th>\n",
       "      <td>P0001</td>\n",
       "      <td>S0002</td>\n",
       "      <td>2017-01-02</td>\n",
       "      <td>0.0</td>\n",
       "      <td>0.0</td>\n",
       "      <td>8.0</td>\n",
       "      <td>6.25</td>\n",
       "      <td>PR14</td>\n",
       "      <td>NaN</td>\n",
       "      <td>PR03</td>\n",
       "      <td>...</td>\n",
       "      <td>C007</td>\n",
       "      <td>2017-01</td>\n",
       "      <td>0.000000e+00</td>\n",
       "      <td>1.0</td>\n",
       "      <td>0.120537</td>\n",
       "      <td>0.992709</td>\n",
       "      <td>0.5</td>\n",
       "      <td>0.866025</td>\n",
       "      <td>1.0</td>\n",
       "      <td>6.123234e-17</td>\n",
       "    </tr>\n",
       "    <tr>\n",
       "      <th>1</th>\n",
       "      <td>P0001</td>\n",
       "      <td>S0002</td>\n",
       "      <td>2017-01-03</td>\n",
       "      <td>0.0</td>\n",
       "      <td>0.0</td>\n",
       "      <td>8.0</td>\n",
       "      <td>6.25</td>\n",
       "      <td>PR14</td>\n",
       "      <td>NaN</td>\n",
       "      <td>PR03</td>\n",
       "      <td>...</td>\n",
       "      <td>C007</td>\n",
       "      <td>2017-01</td>\n",
       "      <td>8.660254e-01</td>\n",
       "      <td>0.5</td>\n",
       "      <td>0.120537</td>\n",
       "      <td>0.992709</td>\n",
       "      <td>0.5</td>\n",
       "      <td>0.866025</td>\n",
       "      <td>1.0</td>\n",
       "      <td>6.123234e-17</td>\n",
       "    </tr>\n",
       "    <tr>\n",
       "      <th>2</th>\n",
       "      <td>P0001</td>\n",
       "      <td>S0002</td>\n",
       "      <td>2017-01-04</td>\n",
       "      <td>0.0</td>\n",
       "      <td>0.0</td>\n",
       "      <td>8.0</td>\n",
       "      <td>6.25</td>\n",
       "      <td>PR14</td>\n",
       "      <td>NaN</td>\n",
       "      <td>PR03</td>\n",
       "      <td>...</td>\n",
       "      <td>C007</td>\n",
       "      <td>2017-01</td>\n",
       "      <td>8.660254e-01</td>\n",
       "      <td>-0.5</td>\n",
       "      <td>0.120537</td>\n",
       "      <td>0.992709</td>\n",
       "      <td>0.5</td>\n",
       "      <td>0.866025</td>\n",
       "      <td>1.0</td>\n",
       "      <td>6.123234e-17</td>\n",
       "    </tr>\n",
       "    <tr>\n",
       "      <th>3</th>\n",
       "      <td>P0001</td>\n",
       "      <td>S0002</td>\n",
       "      <td>2017-01-05</td>\n",
       "      <td>0.0</td>\n",
       "      <td>0.0</td>\n",
       "      <td>8.0</td>\n",
       "      <td>6.25</td>\n",
       "      <td>PR14</td>\n",
       "      <td>NaN</td>\n",
       "      <td>PR03</td>\n",
       "      <td>...</td>\n",
       "      <td>C007</td>\n",
       "      <td>2017-01</td>\n",
       "      <td>1.224647e-16</td>\n",
       "      <td>-1.0</td>\n",
       "      <td>0.120537</td>\n",
       "      <td>0.992709</td>\n",
       "      <td>0.5</td>\n",
       "      <td>0.866025</td>\n",
       "      <td>1.0</td>\n",
       "      <td>6.123234e-17</td>\n",
       "    </tr>\n",
       "    <tr>\n",
       "      <th>4</th>\n",
       "      <td>P0001</td>\n",
       "      <td>S0002</td>\n",
       "      <td>2017-01-06</td>\n",
       "      <td>0.0</td>\n",
       "      <td>0.0</td>\n",
       "      <td>8.0</td>\n",
       "      <td>6.25</td>\n",
       "      <td>PR14</td>\n",
       "      <td>NaN</td>\n",
       "      <td>PR03</td>\n",
       "      <td>...</td>\n",
       "      <td>C007</td>\n",
       "      <td>2017-01</td>\n",
       "      <td>-8.660254e-01</td>\n",
       "      <td>-0.5</td>\n",
       "      <td>0.120537</td>\n",
       "      <td>0.992709</td>\n",
       "      <td>0.5</td>\n",
       "      <td>0.866025</td>\n",
       "      <td>1.0</td>\n",
       "      <td>6.123234e-17</td>\n",
       "    </tr>\n",
       "  </tbody>\n",
       "</table>\n",
       "<p>5 rows × 34 columns</p>\n",
       "</div>"
      ],
      "text/plain": [
       "  product_id store_id       date  sales  revenue  stock  price promo_type_1  \\\n",
       "0      P0001    S0002 2017-01-02    0.0      0.0    8.0   6.25         PR14   \n",
       "1      P0001    S0002 2017-01-03    0.0      0.0    8.0   6.25         PR14   \n",
       "2      P0001    S0002 2017-01-04    0.0      0.0    8.0   6.25         PR14   \n",
       "3      P0001    S0002 2017-01-05    0.0      0.0    8.0   6.25         PR14   \n",
       "4      P0001    S0002 2017-01-06    0.0      0.0    8.0   6.25         PR14   \n",
       "\n",
       "  promo_bin_1 promo_type_2  ... city_id  month_year DayOfWeek_sin  \\\n",
       "0         NaN         PR03  ...    C007     2017-01  0.000000e+00   \n",
       "1         NaN         PR03  ...    C007     2017-01  8.660254e-01   \n",
       "2         NaN         PR03  ...    C007     2017-01  8.660254e-01   \n",
       "3         NaN         PR03  ...    C007     2017-01  1.224647e-16   \n",
       "4         NaN         PR03  ...    C007     2017-01 -8.660254e-01   \n",
       "\n",
       "   DayOfWeek_cos  WeekOfYear_sin  WeekOfYear_cos Month_sin Month_cos  \\\n",
       "0            1.0        0.120537        0.992709       0.5  0.866025   \n",
       "1            0.5        0.120537        0.992709       0.5  0.866025   \n",
       "2           -0.5        0.120537        0.992709       0.5  0.866025   \n",
       "3           -1.0        0.120537        0.992709       0.5  0.866025   \n",
       "4           -0.5        0.120537        0.992709       0.5  0.866025   \n",
       "\n",
       "  Season_sin    Season_cos  \n",
       "0        1.0  6.123234e-17  \n",
       "1        1.0  6.123234e-17  \n",
       "2        1.0  6.123234e-17  \n",
       "3        1.0  6.123234e-17  \n",
       "4        1.0  6.123234e-17  \n",
       "\n",
       "[5 rows x 34 columns]"
      ]
     },
     "execution_count": 28,
     "metadata": {},
     "output_type": "execute_result"
    }
   ],
   "source": [
    "data.head()"
   ]
  },
  {
   "cell_type": "code",
   "execution_count": 29,
   "metadata": {},
   "outputs": [
    {
     "data": {
      "text/plain": [
       "Index(['product_id', 'store_id', 'date', 'sales', 'revenue', 'stock', 'price',\n",
       "       'promo_type_1', 'promo_bin_1', 'promo_type_2', 'promo_bin_2',\n",
       "       'promo_discount_2', 'promo_discount_type_2', 'product_length',\n",
       "       'product_depth', 'product_width', 'cluster_id', 'hierarchy1_id',\n",
       "       'hierarchy2_id', 'hierarchy3_id', 'hierarchy4_id', 'hierarchy5_id',\n",
       "       'storetype_id', 'store_size', 'city_id', 'month_year', 'DayOfWeek_sin',\n",
       "       'DayOfWeek_cos', 'WeekOfYear_sin', 'WeekOfYear_cos', 'Month_sin',\n",
       "       'Month_cos', 'Season_sin', 'Season_cos'],\n",
       "      dtype='object')"
      ]
     },
     "execution_count": 29,
     "metadata": {},
     "output_type": "execute_result"
    }
   ],
   "source": [
    "data.columns"
   ]
  },
  {
   "cell_type": "code",
   "execution_count": 36,
   "metadata": {},
   "outputs": [],
   "source": [
    "gr = data.groupby(['storetype_id', 'hierarchy1_id'])['date'].nunique()    "
   ]
  },
  {
   "cell_type": "code",
   "execution_count": 38,
   "metadata": {},
   "outputs": [
    {
     "data": {
      "text/plain": [
       "count      16.000000\n",
       "mean     1052.812500\n",
       "std       122.905502\n",
       "min       610.000000\n",
       "10%      1019.500000\n",
       "20%      1092.000000\n",
       "30%      1092.000000\n",
       "40%      1092.000000\n",
       "50%      1092.000000\n",
       "60%      1092.000000\n",
       "70%      1092.000000\n",
       "80%      1092.000000\n",
       "90%      1092.000000\n",
       "95%      1092.000000\n",
       "max      1092.000000\n",
       "Name: date, dtype: float64"
      ]
     },
     "execution_count": 38,
     "metadata": {},
     "output_type": "execute_result"
    }
   ],
   "source": [
    "gr.describe([.1, .2, .3, .4, .5, .6, .7, .8, .9, .95])"
   ]
  },
  {
   "cell_type": "code",
   "execution_count": 40,
   "metadata": {},
   "outputs": [
    {
     "data": {
      "text/plain": [
       "storetype_id  hierarchy1_id\n",
       "ST01          H00              1092\n",
       "              H01              1092\n",
       "              H02               955\n",
       "              H03              1092\n",
       "ST02          H00              1092\n",
       "Name: date, dtype: int64"
      ]
     },
     "execution_count": 40,
     "metadata": {},
     "output_type": "execute_result"
    }
   ],
   "source": [
    "gr.head()"
   ]
  },
  {
   "cell_type": "markdown",
   "metadata": {},
   "source": [
    "# Prophet"
   ]
  },
  {
   "cell_type": "code",
   "execution_count": 73,
   "metadata": {},
   "outputs": [],
   "source": [
    "from fbprophet import Prophet\n",
    "import datetime\n",
    "from sklearn.metrics import mean_squared_error as mse"
   ]
  },
  {
   "cell_type": "code",
   "execution_count": 52,
   "metadata": {},
   "outputs": [],
   "source": [
    "train = data[data.date < datetime.datetime(2019, 10, 1)]"
   ]
  },
  {
   "cell_type": "code",
   "execution_count": 53,
   "metadata": {},
   "outputs": [],
   "source": [
    "test = data[data.date.between(datetime.datetime(2019, 10, 1), datetime.datetime(2019, 10, 31))]"
   ]
  },
  {
   "cell_type": "code",
   "execution_count": 54,
   "metadata": {},
   "outputs": [
    {
     "data": {
      "text/plain": [
       "200"
      ]
     },
     "execution_count": 54,
     "metadata": {},
     "output_type": "execute_result"
    }
   ],
   "source": [
    "del data\n",
    "gc.collect()"
   ]
  },
  {
   "cell_type": "code",
   "execution_count": null,
   "metadata": {},
   "outputs": [],
   "source": []
  },
  {
   "cell_type": "code",
   "execution_count": 55,
   "metadata": {},
   "outputs": [],
   "source": [
    "train_series = train[(train.storetype_id == 'ST01') & (train.hierarchy1_id == 'H00')].groupby('date')['sales'].sum().reset_index()\\\n",
    "         .sort_values(by='date', ascending=True)"
   ]
  },
  {
   "cell_type": "code",
   "execution_count": 57,
   "metadata": {},
   "outputs": [],
   "source": [
    "test_series = test[(test.storetype_id == 'ST01') & (test.hierarchy1_id == 'H00')].groupby('date')['sales'].sum().reset_index()\\\n",
    "         .sort_values(by='date', ascending=True)"
   ]
  },
  {
   "cell_type": "code",
   "execution_count": null,
   "metadata": {},
   "outputs": [],
   "source": []
  },
  {
   "cell_type": "code",
   "execution_count": 118,
   "metadata": {},
   "outputs": [
    {
     "data": {
      "text/plain": [
       "<fbprophet.forecaster.Prophet at 0x1b5d5e6be50>"
      ]
     },
     "execution_count": 118,
     "metadata": {},
     "output_type": "execute_result"
    }
   ],
   "source": [
    "prophet = Prophet(daily_seasonality=True, weekly_seasonality=True, \n",
    "                  yearly_seasonality=False, changepoint_prior_scale=0.01)\n",
    "prophet.add_seasonality(name='monthly', period=30.5, fourier_order=1)\n",
    "prophet.fit(train_series.rename(columns={'date' : 'ds', 'sales' : 'y'}))"
   ]
  },
  {
   "cell_type": "code",
   "execution_count": 119,
   "metadata": {},
   "outputs": [],
   "source": [
    "preds = prophet.predict(test_series.reset_index().rename(columns={'date':'ds'}).drop('sales', axis=1))\n",
    "preds = preds[['ds','yhat']].rename(columns={'ds':'Date'}).set_index('Date')['yhat']"
   ]
  },
  {
   "cell_type": "code",
   "execution_count": 120,
   "metadata": {},
   "outputs": [
    {
     "name": "stdout",
     "output_type": "stream",
     "text": [
      "\n",
      " TEST ERROR: 106.49480551346275\n"
     ]
    }
   ],
   "source": [
    "print('\\n', 'TEST ERROR:', mse(test_series['sales'], preds, squared=False))"
   ]
  },
  {
   "cell_type": "code",
   "execution_count": 121,
   "metadata": {},
   "outputs": [],
   "source": [
    "import matplotlib.pyplot as plt"
   ]
  },
  {
   "cell_type": "code",
   "execution_count": 122,
   "metadata": {},
   "outputs": [
    {
     "data": {
      "text/plain": [
       "<matplotlib.legend.Legend at 0x1b5a7eac520>"
      ]
     },
     "execution_count": 122,
     "metadata": {},
     "output_type": "execute_result"
    },
    {
     "data": {
      "image/png": "[encoded data removed]",
      "text/plain": [
       "<Figure size 1152x576 with 1 Axes>"
      ]
     },
     "metadata": {
      "needs_background": "light"
     },
     "output_type": "display_data"
    }
   ],
   "source": [
    "### PLOT PROPHET PREDICTIONS ###\n",
    "\n",
    "test_series.set_index('date')['sales'].plot(figsize=(16,8), label='true test', c='blue')\n",
    "preds.plot(figsize=(16,8), label='pred test', c='orange')\n",
    "plt.legend()"
   ]
  },
  {
   "cell_type": "code",
   "execution_count": 123,
   "metadata": {},
   "outputs": [],
   "source": [
    "p = prophet.predict(train_series.reset_index().rename(columns={'date':'ds'}).drop('sales', axis=1))"
   ]
  },
  {
   "cell_type": "code",
   "execution_count": 125,
   "metadata": {},
   "outputs": [
    {
     "data": {
      "text/html": [
       "<div>\n",
       "<style scoped>\n",
       "    .dataframe tbody tr th:only-of-type {\n",
       "        vertical-align: middle;\n",
       "    }\n",
       "\n",
       "    .dataframe tbody tr th {\n",
       "        vertical-align: top;\n",
       "    }\n",
       "\n",
       "    .dataframe thead th {\n",
       "        text-align: right;\n",
       "    }\n",
       "</style>\n",
       "<table border=\"1\" class=\"dataframe\">\n",
       "  <thead>\n",
       "    <tr style=\"text-align: right;\">\n",
       "      <th></th>\n",
       "      <th>ds</th>\n",
       "      <th>trend</th>\n",
       "      <th>yhat_lower</th>\n",
       "      <th>yhat_upper</th>\n",
       "      <th>trend_lower</th>\n",
       "      <th>trend_upper</th>\n",
       "      <th>additive_terms</th>\n",
       "      <th>additive_terms_lower</th>\n",
       "      <th>additive_terms_upper</th>\n",
       "      <th>daily</th>\n",
       "      <th>...</th>\n",
       "      <th>monthly</th>\n",
       "      <th>monthly_lower</th>\n",
       "      <th>monthly_upper</th>\n",
       "      <th>weekly</th>\n",
       "      <th>weekly_lower</th>\n",
       "      <th>weekly_upper</th>\n",
       "      <th>multiplicative_terms</th>\n",
       "      <th>multiplicative_terms_lower</th>\n",
       "      <th>multiplicative_terms_upper</th>\n",
       "      <th>yhat</th>\n",
       "    </tr>\n",
       "  </thead>\n",
       "  <tbody>\n",
       "    <tr>\n",
       "      <th>0</th>\n",
       "      <td>2017-01-02</td>\n",
       "      <td>788.231586</td>\n",
       "      <td>572.413536</td>\n",
       "      <td>1004.120798</td>\n",
       "      <td>788.231586</td>\n",
       "      <td>788.231586</td>\n",
       "      <td>-17.959893</td>\n",
       "      <td>-17.959893</td>\n",
       "      <td>-17.959893</td>\n",
       "      <td>84.065639</td>\n",
       "      <td>...</td>\n",
       "      <td>-0.745209</td>\n",
       "      <td>-0.745209</td>\n",
       "      <td>-0.745209</td>\n",
       "      <td>-101.280322</td>\n",
       "      <td>-101.280322</td>\n",
       "      <td>-101.280322</td>\n",
       "      <td>0.0</td>\n",
       "      <td>0.0</td>\n",
       "      <td>0.0</td>\n",
       "      <td>770.271694</td>\n",
       "    </tr>\n",
       "    <tr>\n",
       "      <th>1</th>\n",
       "      <td>2017-01-03</td>\n",
       "      <td>787.879058</td>\n",
       "      <td>534.219711</td>\n",
       "      <td>978.672641</td>\n",
       "      <td>787.879058</td>\n",
       "      <td>787.879058</td>\n",
       "      <td>-31.868972</td>\n",
       "      <td>-31.868972</td>\n",
       "      <td>-31.868972</td>\n",
       "      <td>84.065639</td>\n",
       "      <td>...</td>\n",
       "      <td>-3.277487</td>\n",
       "      <td>-3.277487</td>\n",
       "      <td>-3.277487</td>\n",
       "      <td>-112.657124</td>\n",
       "      <td>-112.657124</td>\n",
       "      <td>-112.657124</td>\n",
       "      <td>0.0</td>\n",
       "      <td>0.0</td>\n",
       "      <td>0.0</td>\n",
       "      <td>756.010086</td>\n",
       "    </tr>\n",
       "    <tr>\n",
       "      <th>2</th>\n",
       "      <td>2017-01-04</td>\n",
       "      <td>787.526530</td>\n",
       "      <td>536.366524</td>\n",
       "      <td>998.809870</td>\n",
       "      <td>787.526530</td>\n",
       "      <td>787.526530</td>\n",
       "      <td>-24.576353</td>\n",
       "      <td>-24.576353</td>\n",
       "      <td>-24.576353</td>\n",
       "      <td>84.065639</td>\n",
       "      <td>...</td>\n",
       "      <td>-5.671165</td>\n",
       "      <td>-5.671165</td>\n",
       "      <td>-5.671165</td>\n",
       "      <td>-102.970827</td>\n",
       "      <td>-102.970827</td>\n",
       "      <td>-102.970827</td>\n",
       "      <td>0.0</td>\n",
       "      <td>0.0</td>\n",
       "      <td>0.0</td>\n",
       "      <td>762.950177</td>\n",
       "    </tr>\n",
       "    <tr>\n",
       "      <th>3</th>\n",
       "      <td>2017-01-05</td>\n",
       "      <td>787.174001</td>\n",
       "      <td>510.427352</td>\n",
       "      <td>941.097433</td>\n",
       "      <td>787.174001</td>\n",
       "      <td>787.174001</td>\n",
       "      <td>-50.799195</td>\n",
       "      <td>-50.799195</td>\n",
       "      <td>-50.799195</td>\n",
       "      <td>84.065639</td>\n",
       "      <td>...</td>\n",
       "      <td>-7.825016</td>\n",
       "      <td>-7.825016</td>\n",
       "      <td>-7.825016</td>\n",
       "      <td>-127.039817</td>\n",
       "      <td>-127.039817</td>\n",
       "      <td>-127.039817</td>\n",
       "      <td>0.0</td>\n",
       "      <td>0.0</td>\n",
       "      <td>0.0</td>\n",
       "      <td>736.374806</td>\n",
       "    </tr>\n",
       "    <tr>\n",
       "      <th>4</th>\n",
       "      <td>2017-01-06</td>\n",
       "      <td>786.821473</td>\n",
       "      <td>574.447992</td>\n",
       "      <td>1027.195752</td>\n",
       "      <td>786.821473</td>\n",
       "      <td>786.821473</td>\n",
       "      <td>7.376936</td>\n",
       "      <td>7.376936</td>\n",
       "      <td>7.376936</td>\n",
       "      <td>84.065639</td>\n",
       "      <td>...</td>\n",
       "      <td>-9.647959</td>\n",
       "      <td>-9.647959</td>\n",
       "      <td>-9.647959</td>\n",
       "      <td>-67.040744</td>\n",
       "      <td>-67.040744</td>\n",
       "      <td>-67.040744</td>\n",
       "      <td>0.0</td>\n",
       "      <td>0.0</td>\n",
       "      <td>0.0</td>\n",
       "      <td>794.198409</td>\n",
       "    </tr>\n",
       "    <tr>\n",
       "      <th>...</th>\n",
       "      <td>...</td>\n",
       "      <td>...</td>\n",
       "      <td>...</td>\n",
       "      <td>...</td>\n",
       "      <td>...</td>\n",
       "      <td>...</td>\n",
       "      <td>...</td>\n",
       "      <td>...</td>\n",
       "      <td>...</td>\n",
       "      <td>...</td>\n",
       "      <td>...</td>\n",
       "      <td>...</td>\n",
       "      <td>...</td>\n",
       "      <td>...</td>\n",
       "      <td>...</td>\n",
       "      <td>...</td>\n",
       "      <td>...</td>\n",
       "      <td>...</td>\n",
       "      <td>...</td>\n",
       "      <td>...</td>\n",
       "      <td>...</td>\n",
       "    </tr>\n",
       "    <tr>\n",
       "      <th>997</th>\n",
       "      <td>2019-09-26</td>\n",
       "      <td>448.454669</td>\n",
       "      <td>194.031120</td>\n",
       "      <td>626.105983</td>\n",
       "      <td>448.454669</td>\n",
       "      <td>448.454669</td>\n",
       "      <td>-31.154538</td>\n",
       "      <td>-31.154538</td>\n",
       "      <td>-31.154538</td>\n",
       "      <td>84.065639</td>\n",
       "      <td>...</td>\n",
       "      <td>11.819641</td>\n",
       "      <td>11.819641</td>\n",
       "      <td>11.819641</td>\n",
       "      <td>-127.039817</td>\n",
       "      <td>-127.039817</td>\n",
       "      <td>-127.039817</td>\n",
       "      <td>0.0</td>\n",
       "      <td>0.0</td>\n",
       "      <td>0.0</td>\n",
       "      <td>417.300132</td>\n",
       "    </tr>\n",
       "    <tr>\n",
       "      <th>998</th>\n",
       "      <td>2019-09-27</td>\n",
       "      <td>448.118469</td>\n",
       "      <td>254.717137</td>\n",
       "      <td>688.438618</td>\n",
       "      <td>448.118469</td>\n",
       "      <td>448.118469</td>\n",
       "      <td>29.413330</td>\n",
       "      <td>29.413330</td>\n",
       "      <td>29.413330</td>\n",
       "      <td>84.065639</td>\n",
       "      <td>...</td>\n",
       "      <td>12.388435</td>\n",
       "      <td>12.388435</td>\n",
       "      <td>12.388435</td>\n",
       "      <td>-67.040744</td>\n",
       "      <td>-67.040744</td>\n",
       "      <td>-67.040744</td>\n",
       "      <td>0.0</td>\n",
       "      <td>0.0</td>\n",
       "      <td>0.0</td>\n",
       "      <td>477.531799</td>\n",
       "    </tr>\n",
       "    <tr>\n",
       "      <th>999</th>\n",
       "      <td>2019-09-28</td>\n",
       "      <td>447.782268</td>\n",
       "      <td>529.138147</td>\n",
       "      <td>963.594113</td>\n",
       "      <td>447.782268</td>\n",
       "      <td>447.782268</td>\n",
       "      <td>292.431801</td>\n",
       "      <td>292.431801</td>\n",
       "      <td>292.431801</td>\n",
       "      <td>84.065639</td>\n",
       "      <td>...</td>\n",
       "      <td>12.433339</td>\n",
       "      <td>12.433339</td>\n",
       "      <td>12.433339</td>\n",
       "      <td>195.932823</td>\n",
       "      <td>195.932823</td>\n",
       "      <td>195.932823</td>\n",
       "      <td>0.0</td>\n",
       "      <td>0.0</td>\n",
       "      <td>0.0</td>\n",
       "      <td>740.214069</td>\n",
       "    </tr>\n",
       "    <tr>\n",
       "      <th>1000</th>\n",
       "      <td>2019-09-29</td>\n",
       "      <td>447.446068</td>\n",
       "      <td>637.051070</td>\n",
       "      <td>1069.185968</td>\n",
       "      <td>447.446068</td>\n",
       "      <td>447.446068</td>\n",
       "      <td>411.074104</td>\n",
       "      <td>411.074104</td>\n",
       "      <td>411.074104</td>\n",
       "      <td>84.065639</td>\n",
       "      <td>...</td>\n",
       "      <td>11.952455</td>\n",
       "      <td>11.952455</td>\n",
       "      <td>11.952455</td>\n",
       "      <td>315.056011</td>\n",
       "      <td>315.056011</td>\n",
       "      <td>315.056011</td>\n",
       "      <td>0.0</td>\n",
       "      <td>0.0</td>\n",
       "      <td>0.0</td>\n",
       "      <td>858.520172</td>\n",
       "    </tr>\n",
       "    <tr>\n",
       "      <th>1001</th>\n",
       "      <td>2019-09-30</td>\n",
       "      <td>447.109867</td>\n",
       "      <td>222.221321</td>\n",
       "      <td>651.697252</td>\n",
       "      <td>447.109867</td>\n",
       "      <td>447.109867</td>\n",
       "      <td>-6.248566</td>\n",
       "      <td>-6.248566</td>\n",
       "      <td>-6.248566</td>\n",
       "      <td>84.065639</td>\n",
       "      <td>...</td>\n",
       "      <td>10.966117</td>\n",
       "      <td>10.966117</td>\n",
       "      <td>10.966117</td>\n",
       "      <td>-101.280322</td>\n",
       "      <td>-101.280322</td>\n",
       "      <td>-101.280322</td>\n",
       "      <td>0.0</td>\n",
       "      <td>0.0</td>\n",
       "      <td>0.0</td>\n",
       "      <td>440.861301</td>\n",
       "    </tr>\n",
       "  </tbody>\n",
       "</table>\n",
       "<p>1002 rows × 22 columns</p>\n",
       "</div>"
      ],
      "text/plain": [
       "             ds       trend  yhat_lower   yhat_upper  trend_lower  \\\n",
       "0    2017-01-02  788.231586  572.413536  1004.120798   788.231586   \n",
       "1    2017-01-03  787.879058  534.219711   978.672641   787.879058   \n",
       "2    2017-01-04  787.526530  536.366524   998.809870   787.526530   \n",
       "3    2017-01-05  787.174001  510.427352   941.097433   787.174001   \n",
       "4    2017-01-06  786.821473  574.447992  1027.195752   786.821473   \n",
       "...         ...         ...         ...          ...          ...   \n",
       "997  2019-09-26  448.454669  194.031120   626.105983   448.454669   \n",
       "998  2019-09-27  448.118469  254.717137   688.438618   448.118469   \n",
       "999  2019-09-28  447.782268  529.138147   963.594113   447.782268   \n",
       "1000 2019-09-29  447.446068  637.051070  1069.185968   447.446068   \n",
       "1001 2019-09-30  447.109867  222.221321   651.697252   447.109867   \n",
       "\n",
       "      trend_upper  additive_terms  additive_terms_lower  additive_terms_upper  \\\n",
       "0      788.231586      -17.959893            -17.959893            -17.959893   \n",
       "1      787.879058      -31.868972            -31.868972            -31.868972   \n",
       "2      787.526530      -24.576353            -24.576353            -24.576353   \n",
       "3      787.174001      -50.799195            -50.799195            -50.799195   \n",
       "4      786.821473        7.376936              7.376936              7.376936   \n",
       "...           ...             ...                   ...                   ...   \n",
       "997    448.454669      -31.154538            -31.154538            -31.154538   \n",
       "998    448.118469       29.413330             29.413330             29.413330   \n",
       "999    447.782268      292.431801            292.431801            292.431801   \n",
       "1000   447.446068      411.074104            411.074104            411.074104   \n",
       "1001   447.109867       -6.248566             -6.248566             -6.248566   \n",
       "\n",
       "          daily  ...    monthly  monthly_lower  monthly_upper      weekly  \\\n",
       "0     84.065639  ...  -0.745209      -0.745209      -0.745209 -101.280322   \n",
       "1     84.065639  ...  -3.277487      -3.277487      -3.277487 -112.657124   \n",
       "2     84.065639  ...  -5.671165      -5.671165      -5.671165 -102.970827   \n",
       "3     84.065639  ...  -7.825016      -7.825016      -7.825016 -127.039817   \n",
       "4     84.065639  ...  -9.647959      -9.647959      -9.647959  -67.040744   \n",
       "...         ...  ...        ...            ...            ...         ...   \n",
       "997   84.065639  ...  11.819641      11.819641      11.819641 -127.039817   \n",
       "998   84.065639  ...  12.388435      12.388435      12.388435  -67.040744   \n",
       "999   84.065639  ...  12.433339      12.433339      12.433339  195.932823   \n",
       "1000  84.065639  ...  11.952455      11.952455      11.952455  315.056011   \n",
       "1001  84.065639  ...  10.966117      10.966117      10.966117 -101.280322   \n",
       "\n",
       "      weekly_lower  weekly_upper  multiplicative_terms  \\\n",
       "0      -101.280322   -101.280322                   0.0   \n",
       "1      -112.657124   -112.657124                   0.0   \n",
       "2      -102.970827   -102.970827                   0.0   \n",
       "3      -127.039817   -127.039817                   0.0   \n",
       "4       -67.040744    -67.040744                   0.0   \n",
       "...            ...           ...                   ...   \n",
       "997    -127.039817   -127.039817                   0.0   \n",
       "998     -67.040744    -67.040744                   0.0   \n",
       "999     195.932823    195.932823                   0.0   \n",
       "1000    315.056011    315.056011                   0.0   \n",
       "1001   -101.280322   -101.280322                   0.0   \n",
       "\n",
       "      multiplicative_terms_lower  multiplicative_terms_upper        yhat  \n",
       "0                            0.0                         0.0  770.271694  \n",
       "1                            0.0                         0.0  756.010086  \n",
       "2                            0.0                         0.0  762.950177  \n",
       "3                            0.0                         0.0  736.374806  \n",
       "4                            0.0                         0.0  794.198409  \n",
       "...                          ...                         ...         ...  \n",
       "997                          0.0                         0.0  417.300132  \n",
       "998                          0.0                         0.0  477.531799  \n",
       "999                          0.0                         0.0  740.214069  \n",
       "1000                         0.0                         0.0  858.520172  \n",
       "1001                         0.0                         0.0  440.861301  \n",
       "\n",
       "[1002 rows x 22 columns]"
      ]
     },
     "execution_count": 125,
     "metadata": {},
     "output_type": "execute_result"
    }
   ],
   "source": [
    "p"
   ]
  },
  {
   "cell_type": "code",
   "execution_count": null,
   "metadata": {},
   "outputs": [],
   "source": []
  },
  {
   "cell_type": "code",
   "execution_count": null,
   "metadata": {},
   "outputs": [],
   "source": []
  }
 ],
 "metadata": {
  "kernelspec": {
   "display_name": "Python 3",
   "language": "python",
   "name": "python3"
  },
  "language_info": {
   "codemirror_mode": {
    "name": "ipython",
    "version": 3
   },
   "file_extension": ".py",
   "mimetype": "text/x-python",
   "name": "python",
   "nbconvert_exporter": "python",
   "pygments_lexer": "ipython3",
   "version": "3.8.5"
  }
 },
 "nbformat": 4,
 "nbformat_minor": 4
}
