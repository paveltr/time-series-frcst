{
 "cells": [
  {
   "cell_type": "code",
   "execution_count": 1,
   "metadata": {},
   "outputs": [
    {
     "ename": "KeyError",
     "evalue": "'ML'",
     "output_type": "error",
     "traceback": [
      "\u001b[1;31m---------------------------------------------------------------------------\u001b[0m",
      "\u001b[1;31mKeyError\u001b[0m                                  Traceback (most recent call last)",
      "\u001b[1;32m<ipython-input-1-154e2289074c>\u001b[0m in \u001b[0;36m<module>\u001b[1;34m\u001b[0m\n\u001b[0;32m     62\u001b[0m \u001b[1;31m# parser.add_argument('--config_path', action=\"store\",\u001b[0m\u001b[1;33m\u001b[0m\u001b[1;33m\u001b[0m\u001b[1;33m\u001b[0m\u001b[0m\n\u001b[0;32m     63\u001b[0m \u001b[1;31m#                     dest='config_path', default='../prediction_config.yaml')\u001b[0m\u001b[1;33m\u001b[0m\u001b[1;33m\u001b[0m\u001b[1;33m\u001b[0m\u001b[0m\n\u001b[1;32m---> 64\u001b[1;33m \u001b[0mcfg\u001b[0m \u001b[1;33m=\u001b[0m \u001b[0mset_config\u001b[0m\u001b[1;33m(\u001b[0m\u001b[1;34m'../prediction_config.yaml'\u001b[0m\u001b[1;33m)\u001b[0m\u001b[1;33m\u001b[0m\u001b[1;33m\u001b[0m\u001b[0m\n\u001b[0m\u001b[0;32m     65\u001b[0m \u001b[0mforecasting_pipeine\u001b[0m\u001b[1;33m(\u001b[0m\u001b[0mcfg\u001b[0m\u001b[1;33m)\u001b[0m\u001b[1;33m\u001b[0m\u001b[1;33m\u001b[0m\u001b[0m\n",
      "\u001b[1;32m<ipython-input-1-154e2289074c>\u001b[0m in \u001b[0;36mset_config\u001b[1;34m(filepath)\u001b[0m\n\u001b[0;32m     42\u001b[0m         \u001b[0mcfg\u001b[0m \u001b[1;33m=\u001b[0m \u001b[0myaml\u001b[0m\u001b[1;33m.\u001b[0m\u001b[0mload\u001b[0m\u001b[1;33m(\u001b[0m\u001b[0mymlfile\u001b[0m\u001b[1;33m)\u001b[0m\u001b[1;33m\u001b[0m\u001b[1;33m\u001b[0m\u001b[0m\n\u001b[0;32m     43\u001b[0m \u001b[1;33m\u001b[0m\u001b[0m\n\u001b[1;32m---> 44\u001b[1;33m     \u001b[1;32mreturn\u001b[0m \u001b[0mupdate_dates\u001b[0m\u001b[1;33m(\u001b[0m\u001b[0mcfg\u001b[0m\u001b[1;33m)\u001b[0m\u001b[1;33m\u001b[0m\u001b[1;33m\u001b[0m\u001b[0m\n\u001b[0m\u001b[0;32m     45\u001b[0m \u001b[1;33m\u001b[0m\u001b[0m\n\u001b[0;32m     46\u001b[0m \u001b[1;33m\u001b[0m\u001b[0m\n",
      "\u001b[1;32m<ipython-input-1-154e2289074c>\u001b[0m in \u001b[0;36mupdate_dates\u001b[1;34m(cfg)\u001b[0m\n\u001b[0;32m     33\u001b[0m     \u001b[1;32mfor\u001b[0m \u001b[0mkey\u001b[0m\u001b[1;33m,\u001b[0m \u001b[0mvalue\u001b[0m \u001b[1;32min\u001b[0m \u001b[0mcfg\u001b[0m\u001b[1;33m[\u001b[0m\u001b[1;34m'MODEL'\u001b[0m\u001b[1;33m]\u001b[0m\u001b[1;33m.\u001b[0m\u001b[0mitems\u001b[0m\u001b[1;33m(\u001b[0m\u001b[1;33m)\u001b[0m\u001b[1;33m:\u001b[0m\u001b[1;33m\u001b[0m\u001b[1;33m\u001b[0m\u001b[0m\n\u001b[0;32m     34\u001b[0m         \u001b[1;32mif\u001b[0m \u001b[1;34m'date'\u001b[0m \u001b[1;32min\u001b[0m \u001b[0mkey\u001b[0m\u001b[1;33m:\u001b[0m\u001b[1;33m\u001b[0m\u001b[1;33m\u001b[0m\u001b[0m\n\u001b[1;32m---> 35\u001b[1;33m             \u001b[0mcfg\u001b[0m\u001b[1;33m[\u001b[0m\u001b[1;34m'ML'\u001b[0m\u001b[1;33m]\u001b[0m\u001b[1;33m[\u001b[0m\u001b[0mkey\u001b[0m\u001b[1;33m]\u001b[0m \u001b[1;33m=\u001b[0m \u001b[0mconvert_to_date\u001b[0m\u001b[1;33m(\u001b[0m\u001b[0mvalue\u001b[0m\u001b[1;33m)\u001b[0m\u001b[1;33m\u001b[0m\u001b[1;33m\u001b[0m\u001b[0m\n\u001b[0m\u001b[0;32m     36\u001b[0m     \u001b[1;32mreturn\u001b[0m \u001b[0mcfg\u001b[0m\u001b[1;33m\u001b[0m\u001b[1;33m\u001b[0m\u001b[0m\n\u001b[0;32m     37\u001b[0m \u001b[1;33m\u001b[0m\u001b[0m\n",
      "\u001b[1;31mKeyError\u001b[0m: 'ML'"
     ]
    }
   ],
   "source": [
    "from model_training import MLPipeline\n",
    "from feature_engineering import FeaturePipeline\n",
    "import yaml\n",
    "from helpers.utils import read_csv, convert_to_date\n",
    "import pandas as pd\n",
    "import gc\n",
    "import argparse\n",
    "import datetime\n",
    "\n",
    "\n",
    "def forecasting_pipeine(cfg):\n",
    "    '''This function creates features, trains a model and saves a file with forecasted values'''\n",
    "\n",
    "    data = create_data(cfg)\n",
    "\n",
    "    FeatureBuilder = FeaturePipeline(**cfg['MODEL'])\n",
    "    FeatureBuilder.create_features(data)\n",
    "\n",
    "    MLBuilder = MLPipeline(**cfg['MODEL'])\n",
    "\n",
    "    MLBuilder.ml_pipeline(FeatureBuilder.features)\n",
    "\n",
    "    save_predictions(MLBuilder.predictions['merged'], cfg['OUTPUT'])\n",
    "\n",
    "\n",
    "def save_predictions(predictions, path):\n",
    "    df = predictions[['date', 'hierarchy1_id',\n",
    "                      'storetype_id', 'sales', 'lgb_predicted']]\n",
    "    df.to_csv(path, index=False)\n",
    "\n",
    "\n",
    "def update_dates(cfg):\n",
    "    for key, value in cfg['MODEL'].items():\n",
    "        if 'date' in key:\n",
    "            cfg['MODEL'][key] = convert_to_date(value)\n",
    "    return cfg\n",
    "\n",
    "\n",
    "def set_config(filepath):\n",
    "    '''This function reads configuration file'''\n",
    "    with open(filepath, 'r') as ymlfile:\n",
    "        cfg = yaml.load(ymlfile)\n",
    "\n",
    "    return update_dates(cfg)\n",
    "\n",
    "\n",
    "def create_data(cfg):\n",
    "    '''This function reads files and merges into one dataframe'''\n",
    "    datasets = {}\n",
    "    for key, value in cfg['INPUT'].items():\n",
    "        datasets[key] = read_csv(value, nrows=10)\n",
    "\n",
    "    data = pd.merge(datasets['sales'], datasets['taxonomy'], how='inner', on=['product_id'])\\\n",
    "        .merge(datasets['stores'], how='inner', on=['store_id'])\n",
    "\n",
    "    del datasets\n",
    "    gc.collect()\n",
    "    return data\n",
    "\n",
    "\n",
    "# parser = argparse.ArgumentParser(description='ml_pipeline')\n",
    "# parser.add_argument('--config_path', action=\"store\",\n",
    "#                     dest='config_path', default='../prediction_config.yaml')\n",
    "cfg = set_config('../prediction_config.yaml')\n",
    "forecasting_pipeine(cfg)\n"
   ]
  },
  {
   "cell_type": "code",
   "execution_count": 1,
   "metadata": {},
   "outputs": [
    {
     "ename": "NameError",
     "evalue": "name 'cfg' is not defined",
     "output_type": "error",
     "traceback": [
      "\u001b[1;31m---------------------------------------------------------------------------\u001b[0m",
      "\u001b[1;31mNameError\u001b[0m                                 Traceback (most recent call last)",
      "\u001b[1;32m<ipython-input-1-0a76b5d8c2a4>\u001b[0m in \u001b[0;36m<module>\u001b[1;34m\u001b[0m\n\u001b[1;32m----> 1\u001b[1;33m \u001b[0mcfg\u001b[0m\u001b[1;33m\u001b[0m\u001b[1;33m\u001b[0m\u001b[0m\n\u001b[0m",
      "\u001b[1;31mNameError\u001b[0m: name 'cfg' is not defined"
     ]
    }
   ],
   "source": []
  },
  {
   "cell_type": "code",
   "execution_count": null,
   "metadata": {},
   "outputs": [],
   "source": []
  },
  {
   "cell_type": "code",
   "execution_count": null,
   "metadata": {},
   "outputs": [],
   "source": []
  },
  {
   "cell_type": "code",
   "execution_count": null,
   "metadata": {},
   "outputs": [],
   "source": []
  },
  {
   "cell_type": "code",
   "execution_count": null,
   "metadata": {},
   "outputs": [],
   "source": []
  },
  {
   "cell_type": "code",
   "execution_count": null,
   "metadata": {},
   "outputs": [],
   "source": [
    "cfg = set_config"
   ]
  },
  {
   "cell_type": "code",
   "execution_count": null,
   "metadata": {},
   "outputs": [
    {
     "name": "stdout",
     "output_type": "stream",
     "text": [
      "Mem. usage decreased from  0.00 Mb to  0.00 Mb (6.2% reduction)\n",
      "Mem. usage decreased from  0.00 Mb to  0.00 Mb (3.9% reduction)\n",
      "Mem. usage decreased from  0.00 Mb to  0.00 Mb (3.4% reduction)\n"
     ]
    },
    {
     "data": {
      "text/plain": [
       "44"
      ]
     },
     "execution_count": 12,
     "metadata": {},
     "output_type": "execute_result"
    }
   ],
   "source": []
  },
  {
   "cell_type": "code",
   "execution_count": null,
   "metadata": {},
   "outputs": [],
   "source": []
  },
  {
   "cell_type": "code",
   "execution_count": null,
   "metadata": {},
   "outputs": [],
   "source": []
  },
  {
   "cell_type": "code",
   "execution_count": null,
   "metadata": {},
   "outputs": [],
   "source": []
  },
  {
   "cell_type": "code",
   "execution_count": null,
   "metadata": {},
   "outputs": [],
   "source": []
  },
  {
   "cell_type": "code",
   "execution_count": null,
   "metadata": {},
   "outputs": [],
   "source": []
  },
  {
   "cell_type": "code",
   "execution_count": null,
   "metadata": {},
   "outputs": [],
   "source": []
  },
  {
   "cell_type": "code",
   "execution_count": null,
   "metadata": {},
   "outputs": [],
   "source": []
  },
  {
   "cell_type": "code",
   "execution_count": null,
   "metadata": {},
   "outputs": [],
   "source": []
  }
 ],
 "metadata": {
  "interpreter": {
   "hash": "7b4b4feff2f24a0f0a34464dbe537a36fda679851528fb8735cb41fa49dffb2d"
  },
  "kernelspec": {
   "display_name": "Python 3.8.5 ('base')",
   "language": "python",
   "name": "python3"
  },
  "language_info": {
   "codemirror_mode": {
    "name": "ipython",
    "version": 3
   },
   "file_extension": ".py",
   "mimetype": "text/x-python",
   "name": "python",
   "nbconvert_exporter": "python",
   "pygments_lexer": "ipython3",
   "version": "3.8.5"
  },
  "orig_nbformat": 4
 },
 "nbformat": 4,
 "nbformat_minor": 2
}
